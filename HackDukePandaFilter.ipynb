{
 "cells": [
  {
   "cell_type": "code",
   "execution_count": 1,
   "metadata": {},
   "outputs": [],
   "source": [
    "import pandas as pd\n",
    "import numpy as np"
   ]
  },
  {
   "cell_type": "code",
   "execution_count": 58,
   "metadata": {
    "scrolled": true
   },
   "outputs": [
    {
     "name": "stdout",
     "output_type": "stream",
     "text": [
      "What is your gender? Male\n",
      "What is your condition? Influenza\n"
     ]
    }
   ],
   "source": [
    "def Filter (Gender, Conditions):\n",
    "    search = pd.read_csv(r'C:/Users/Bill Gu/Documents/Sophomore/Summer Home/HackDukeTest/src/SearchResults.csv')\n",
    "    search2 = search.copy()\n",
    "    search3 = search2[search2['Status'].isin(['Recruiting'])]\n",
    "    search4 = search3[search3['Gender'].isin([Gender, 'All'])]\n",
    "    search5 = search4[search4['Conditions'].str.contains(Conditions)]\n",
    "    searchFinal = search5.drop(search5.columns[[0, 1, 3, 4, 5, 7, 8, 10, 11, 12, 13, 14, 15, 16, 17, 19, 20, 21, 22, 23, 25]], axis=1)\n",
    "    searchFinal\n",
    "    searchFinal.to_csv('out.csv')\n",
    "    return\n",
    "    \n",
    "gender = input(\"What is your gender? \")\n",
    "genderMod = gender.lower().capitalize()\n",
    "condition = input(\"What is your condition? \")\n",
    "conditionMod = condition.lower().capitalize()\n",
    "Filter(genderMod, conditionMod)"
   ]
  },
  {
   "cell_type": "code",
   "execution_count": null,
   "metadata": {},
   "outputs": [],
   "source": []
  },
  {
   "cell_type": "code",
   "execution_count": null,
   "metadata": {},
   "outputs": [],
   "source": []
  }
 ],
 "metadata": {
  "kernelspec": {
   "display_name": "Python 3",
   "language": "python",
   "name": "python3"
  },
  "language_info": {
   "codemirror_mode": {
    "name": "ipython",
    "version": 3
   },
   "file_extension": ".py",
   "mimetype": "text/x-python",
   "name": "python",
   "nbconvert_exporter": "python",
   "pygments_lexer": "ipython3",
   "version": "3.7.0"
  }
 },
 "nbformat": 4,
 "nbformat_minor": 2
}
